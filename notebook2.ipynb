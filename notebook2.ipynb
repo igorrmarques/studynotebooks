{
 "cells": [
  {
   "cell_type": "code",
   "execution_count": 5,
   "metadata": {},
   "outputs": [
    {
     "data": {
      "text/plain": [
       "'3.9.0'"
      ]
     },
     "execution_count": 5,
     "metadata": {},
     "output_type": "execute_result"
    }
   ],
   "source": [
    "import matplotlib as mpl\n",
    "import matplotlib.pyplot as plt\n",
    "mpl.__version__"
   ]
  },
  {
   "cell_type": "code",
   "execution_count": 8,
   "metadata": {},
   "outputs": [
    {
     "data": {
      "text/plain": [
       "<BarContainer object of 3 artists>"
      ]
     },
     "execution_count": 8,
     "metadata": {},
     "output_type": "execute_result"
    },
    {
     "data": {
      "image/png": "[encoded data removed]",
      "text/plain": [
       "<Figure size 640x480 with 1 Axes>"
      ]
     },
     "metadata": {},
     "output_type": "display_data"
    }
   ],
   "source": [
    "estudantes = ['joao','Maria','Jose']\n",
    "notas = [8.5, 9, 6.5]\n",
    "plt.bar(x = estudantes, height = notas)"
   ]
  },
  {
   "cell_type": "code",
   "execution_count": 13,
   "metadata": {},
   "outputs": [
    {
     "name": "stdout",
     "output_type": "stream",
     "text": [
      "67\n"
     ]
    }
   ],
   "source": [
    "from math import ceil\n",
    "receita = 1000\n",
    "unidade = 15\n",
    "\n",
    "print(ceil(receita/unidade))\n"
   ]
  },
  {
   "cell_type": "code",
   "execution_count": 20,
   "metadata": {},
   "outputs": [
    {
     "name": "stdout",
     "output_type": "stream",
     "text": [
      "12\n",
      "10\n"
     ]
    }
   ],
   "source": [
    "import numpy as np\n",
    "from random import choice\n",
    "from random import randrange\n",
    "\n",
    "lista = [8, 12, 54, 23, 43, 1, 90, 87, 105, 77]\n",
    "print(choice(lista))\n",
    "print(randrange(101))"
   ]
  },
  {
   "cell_type": "code",
   "execution_count": 24,
   "metadata": {},
   "outputs": [
    {
     "name": "stdout",
     "output_type": "stream",
     "text": [
      "625.0\n"
     ]
    }
   ],
   "source": [
    "from math import pow\n",
    "\n",
    "x = int(input(\"Digite o numero da base\"))\n",
    "y = int(input(\"Digite o numero do expoente\"))\n",
    "print(pow(x,y))"
   ]
  },
  {
   "cell_type": "code",
   "execution_count": 26,
   "metadata": {},
   "outputs": [
    {
     "name": "stdout",
     "output_type": "stream",
     "text": [
      "O numero sorteado foi: 1\n"
     ]
    }
   ],
   "source": [
    "from random import randrange\n",
    "\n",
    "pessoas = int(input(\"Qual o numero de participantes?\"))\n",
    "pessoas += 1\n",
    "print(f'O numero sorteado foi: {randrange(pessoas)}')"
   ]
  },
  {
   "cell_type": "code",
   "execution_count": 27,
   "metadata": {},
   "outputs": [
    {
     "name": "stdout",
     "output_type": "stream",
     "text": [
      "Ola, Jão, o seu token de acesso é 7355, seja bem vindo(a)!\n"
     ]
    }
   ],
   "source": [
    "from random import randrange\n",
    "\n",
    "nome=input(\"Digite seu nome:\")\n",
    "token = 999 + randrange(8999)\n",
    "\n",
    "print(f'Ola, {nome}, o seu token de acesso é {token}, seja bem vindo(a)!')"
   ]
  },
  {
   "cell_type": "code",
   "execution_count": 30,
   "metadata": {},
   "outputs": [
    {
     "name": "stdout",
     "output_type": "stream",
     "text": [
      "['abacaxi', 'pêra', 'mamão']\n"
     ]
    }
   ],
   "source": [
    "from random import choice\n",
    "\n",
    "lista_fruta = []\n",
    "frutas = [\"maçã\", \"banana\", \"uva\", \"pera\", \n",
    "          \"manga\", \"coco\", \"melancia\", \"mamão\",\n",
    "          \"laranja\", \"abacaxi\", \"kiwi\", \"ameixa\"]\n",
    "\n",
    "for i in range(1,4,1):\n",
    "    lista_fruta.append(choice(frutas))\n",
    "\n",
    "print(lista_fruta) "
   ]
  },
  {
   "cell_type": "code",
   "execution_count": 58,
   "metadata": {},
   "outputs": [
    {
     "name": "stdout",
     "output_type": "stream",
     "text": [
      "A raiz de 17 é 4.123105625617661 e não é um numero inteiro\n",
      "A raiz de 4 é 2.0 e é um numero inteiro\n",
      "A raiz de 16 é 4.0 e é um numero inteiro\n",
      "A raiz de 41 é 6.4031242374328485 e não é um numero inteiro\n",
      "A raiz de 39 é 6.244997998398398 e não é um numero inteiro\n",
      "A raiz de 13 é 3.605551275463989 e não é um numero inteiro\n",
      "A raiz de 38 é 6.164414002968976 e não é um numero inteiro\n",
      "A raiz de 1 é 1.0 e não é um numero inteiro\n",
      "A raiz de 5 é 2.23606797749979 e não é um numero inteiro\n",
      "A raiz de 21 é 4.58257569495584 e não é um numero inteiro\n",
      "A raiz de 14 é 3.7416573867739413 e não é um numero inteiro\n",
      "A raiz de 26 é 5.0990195135927845 e não é um numero inteiro\n",
      "A raiz de 48 é 6.928203230275509 e não é um numero inteiro\n",
      "A raiz de 39 é 6.244997998398398 e não é um numero inteiro\n",
      "A raiz de 45 é 6.708203932499369 e não é um numero inteiro\n",
      "A raiz de 33 é 5.744562646538029 e não é um numero inteiro\n",
      "A raiz de 12 é 3.4641016151377544 e não é um numero inteiro\n",
      "A raiz de 50 é 7.0710678118654755 e não é um numero inteiro\n",
      "A raiz de 4 é 2.0 e é um numero inteiro\n"
     ]
    }
   ],
   "source": [
    "def sqrt_calc(qtd: int = 0, maxi: int= 0):\n",
    "    '''\n",
    "    Essa função vai gerar uma quantidade de numeros aleatórios dentro de um intervalo que varia de 0 a o numero máximo do input.\n",
    "    Qtf -> numero inteiro que corresponde a quantidade de entradas;\n",
    "    maxi -> valor máximo que o numero pode ser aleatoriamente gerado;\n",
    "    Os valores de ambos são 0 se não colocado nada\n",
    "    '''\n",
    "    from math import sqrt\n",
    "\n",
    "    numeros = []\n",
    "    a = 1\n",
    "\n",
    "    while a < qtd:\n",
    "        numeros.append(int(randrange(maxi+1)))\n",
    "        a += 1\n",
    "\n",
    "    for i in range(0,len(numeros),1):\n",
    "        raizes.append(sqrt(numeros[i]))\n",
    "        if sqrt(numeros[i]) % 2 == 0:\n",
    "            print(f'A raiz de {numeros[i]} é {sqrt(numeros[i])} e é um numero inteiro')\n",
    "        else:\n",
    "            print(f'A raiz de {numeros[i]} é {sqrt(numeros[i])} e não é um numero inteiro')\n",
    "    \n",
    "qtd = int(input(\"Quantos numeros aleatórios quer?\"))\n",
    "maxi = int(input(\"Qual o maior numero que pode ser possivel?\"))\n",
    "sqrt_calc(qtd,maxi)\n",
    "    "
   ]
  },
  {
   "cell_type": "code",
   "execution_count": 47,
   "metadata": {},
   "outputs": [
    {
     "name": "stdout",
     "output_type": "stream",
     "text": [
      "O custo é de R$1868.85 reais\n"
     ]
    }
   ],
   "source": [
    "from math import pow, pi\n",
    "\n",
    "raio = float(input('Qual o raio do jardim?'))\n",
    "custo = 25 * pow(raio,2) * pi\n",
    "print(f'O custo é de R${round(custo,2)} reais')"
   ]
  },
  {
   "cell_type": "code",
   "execution_count": 59,
   "metadata": {},
   "outputs": [
    {
     "name": "stdout",
     "output_type": "stream",
     "text": [
      "Help on function sqrt_calc in module __main__:\n",
      "\n",
      "sqrt_calc(qtd: int = 0, maxi: int = 0)\n",
      "    Essa função vai gerar uma quantidade de numeros aleatórios dentro de um intervalo que varia de 0 a o numero máximo do input.\n",
      "    Qtf -> numero inteiro que corresponde a quantidade de entradas;\n",
      "    maxi -> valor máximo que o numero pode ser aleatoriamente gerado;\n",
      "    Os valores de ambos são 0 se não colocado nada\n",
      "\n"
     ]
    }
   ],
   "source": [
    "help(sqrt_calc)"
   ]
  },
  {
   "cell_type": "code",
   "execution_count": 64,
   "metadata": {},
   "outputs": [
    {
     "data": {
      "text/plain": [
       "[6.5, 5.5, 7.5, 9.5, 6.0]"
      ]
     },
     "execution_count": 64,
     "metadata": {},
     "output_type": "execute_result"
    }
   ],
   "source": [
    "notas = [6.0,5.0,7.0,9.0,5.5]\n",
    "qualitativo = 0.5\n",
    "notas_atualizadas = map(lambda x: x + qualitativo, notas)\n",
    "notas_atualizadas=list(notas_atualizadas)\n",
    "notas_atualizadas"
   ]
  },
  {
   "cell_type": "code",
   "execution_count": 65,
   "metadata": {},
   "outputs": [
    {
     "name": "stdout",
     "output_type": "stream",
     "text": [
      "O tamanho da lista é igual o numero de valores, que é igual a 17\n",
      "O menor valor dessa lista é: 11\n",
      "O maior valor dessa lista é: 99\n"
     ]
    }
   ],
   "source": [
    "lista = [16, 14, 63, 65, 17, 99, 70, 11, 20, 48, 79, 32, 17, 89, 12, 25, 66]\n",
    "print(f'O tamanho da lista é igual o numero de valores, que é igual a {len(lista)} itens')\n",
    "print(f'O menor valor dessa lista é: {min(lista)}')\n",
    "print(f'O maior valor dessa lista é: {max(lista)}')\n"
   ]
  },
  {
   "cell_type": "code",
   "execution_count": 71,
   "metadata": {},
   "outputs": [
    {
     "name": "stdout",
     "output_type": "stream",
     "text": [
      "Tabuada do 6\n",
      "\n",
      " 6 x 1 = 6\n",
      "\n",
      " 6 x 2 = 12\n",
      "\n",
      " 6 x 3 = 18\n",
      "\n",
      " 6 x 4 = 24\n",
      "\n",
      " 6 x 5 = 30\n",
      "\n",
      " 6 x 6 = 36\n",
      "\n",
      " 6 x 7 = 42\n",
      "\n",
      " 6 x 8 = 48\n",
      "\n",
      " 6 x 9 = 54\n",
      "\n",
      " 6 x 10 = 60\n"
     ]
    }
   ],
   "source": [
    "def tabuada(x: int=0):\n",
    "    '''\n",
    "    Essa função vai mostrar a tabuada do numero referente ao parâmetro\n",
    "    '''\n",
    "    a=1\n",
    "    print(f'Tabuada do {x}')\n",
    "    while a <= 10:\n",
    "        print(\"\\n\",f'{x} x {a} = {x*a}')\n",
    "        a+=1\n",
    "    a=1\n",
    "\n",
    "numero = int(input('Qual o numero desejado?'))\n",
    "tabuada(numero)"
   ]
  },
  {
   "cell_type": "code",
   "execution_count": 80,
   "metadata": {},
   "outputs": [
    {
     "data": {
      "text/plain": [
       "[24, 99]"
      ]
     },
     "execution_count": 80,
     "metadata": {},
     "output_type": "execute_result"
    }
   ],
   "source": [
    "def multiplos(lista: list[0], num: int=1) -> list:\n",
    "\n",
    "    \"\"\"\n",
    "    Função que vai retornar os multiplos de um numero baseado no elemento do segundo parametro\n",
    "    \"\"\"\n",
    "\n",
    "    multiplos = []\n",
    "\n",
    "    for row in range(len(lista)):\n",
    "\n",
    "        if lista[row] % num == 0:\n",
    "            multiplos.append(lista[row])\n",
    "\n",
    "    return multiplos\n",
    "\n",
    "multi_3= []\n",
    "numeros = [97, 80, 94, 88, 80, 1, 16, 53, 62, 32, 24, 99]\n",
    "multi_3=multiplos(numeros, 3)\n",
    "multi_3\n"
   ]
  },
  {
   "cell_type": "code",
   "execution_count": 81,
   "metadata": {},
   "outputs": [
    {
     "data": {
      "text/plain": [
       "[9409, 6400, 8836, 7744, 6400, 1, 256, 2809, 3844, 1024, 576, 9801]"
      ]
     },
     "execution_count": 81,
     "metadata": {},
     "output_type": "execute_result"
    }
   ],
   "source": [
    "numeros = [97, 80, 94, 88, 80, 1, 16, 53, 62, 32, 24, 99]\n",
    "quadrados = list(map(lambda x: x*x, numeros))\n",
    "quadrados"
   ]
  },
  {
   "cell_type": "code",
   "execution_count": 87,
   "metadata": {},
   "outputs": [
    {
     "ename": "KeyboardInterrupt",
     "evalue": "Interrupted by user",
     "output_type": "error",
     "traceback": [
      "\u001b[0;31m---------------------------------------------------------------------------\u001b[0m",
      "\u001b[0;31mKeyboardInterrupt\u001b[0m                         Traceback (most recent call last)",
      "Cell \u001b[0;32mIn[87], line 20\u001b[0m\n\u001b[1;32m     16\u001b[0m     media \u001b[38;5;241m=\u001b[39m \u001b[38;5;28msum\u001b[39m(lista)\u001b[38;5;241m/\u001b[39m\u001b[38;5;28mlen\u001b[39m(lista)\n\u001b[1;32m     18\u001b[0m     \u001b[38;5;28;01mreturn\u001b[39;00m media\n\u001b[0;32m---> 20\u001b[0m \u001b[38;5;28mprint\u001b[39m(\u001b[38;5;124mf\u001b[39m\u001b[38;5;124m'\u001b[39m\u001b[38;5;124mA nota foi: \u001b[39m\u001b[38;5;132;01m{\u001b[39;00m\u001b[43mpontos\u001b[49m\u001b[43m(\u001b[49m\u001b[43m)\u001b[49m\u001b[38;5;132;01m}\u001b[39;00m\u001b[38;5;124m'\u001b[39m)\n",
      "Cell \u001b[0;32mIn[87], line 11\u001b[0m, in \u001b[0;36mpontos\u001b[0;34m()\u001b[0m\n\u001b[1;32m      8\u001b[0m a\u001b[38;5;241m=\u001b[39m\u001b[38;5;241m1\u001b[39m\n\u001b[1;32m     10\u001b[0m \u001b[38;5;28;01mwhile\u001b[39;00m a \u001b[38;5;241m<\u001b[39m\u001b[38;5;241m=\u001b[39m \u001b[38;5;241m5\u001b[39m:\n\u001b[0;32m---> 11\u001b[0m     lista\u001b[38;5;241m.\u001b[39mappend(\u001b[38;5;28mint\u001b[39m(\u001b[38;5;28;43minput\u001b[39;49m\u001b[43m(\u001b[49m\u001b[38;5;124;43mf\u001b[39;49m\u001b[38;5;124;43m\"\u001b[39;49m\u001b[38;5;124;43mEntre com a nota \u001b[39;49m\u001b[38;5;132;43;01m{\u001b[39;49;00m\u001b[43ma\u001b[49m\u001b[38;5;132;43;01m}\u001b[39;49;00m\u001b[38;5;124;43m: \u001b[39;49m\u001b[38;5;124;43m\"\u001b[39;49m\u001b[43m)\u001b[49m))\n\u001b[1;32m     12\u001b[0m     a\u001b[38;5;241m+\u001b[39m\u001b[38;5;241m=\u001b[39m\u001b[38;5;241m1\u001b[39m\n\u001b[1;32m     14\u001b[0m lista\u001b[38;5;241m.\u001b[39mremove(\u001b[38;5;28mmax\u001b[39m(lista))\n",
      "File \u001b[0;32m~/Documentos/python-em-ds/venv/lib/python3.10/site-packages/ipykernel/kernelbase.py:1282\u001b[0m, in \u001b[0;36mKernel.raw_input\u001b[0;34m(self, prompt)\u001b[0m\n\u001b[1;32m   1280\u001b[0m     msg \u001b[38;5;241m=\u001b[39m \u001b[38;5;124m\"\u001b[39m\u001b[38;5;124mraw_input was called, but this frontend does not support input requests.\u001b[39m\u001b[38;5;124m\"\u001b[39m\n\u001b[1;32m   1281\u001b[0m     \u001b[38;5;28;01mraise\u001b[39;00m StdinNotImplementedError(msg)\n\u001b[0;32m-> 1282\u001b[0m \u001b[38;5;28;01mreturn\u001b[39;00m \u001b[38;5;28;43mself\u001b[39;49m\u001b[38;5;241;43m.\u001b[39;49m\u001b[43m_input_request\u001b[49m\u001b[43m(\u001b[49m\n\u001b[1;32m   1283\u001b[0m \u001b[43m    \u001b[49m\u001b[38;5;28;43mstr\u001b[39;49m\u001b[43m(\u001b[49m\u001b[43mprompt\u001b[49m\u001b[43m)\u001b[49m\u001b[43m,\u001b[49m\n\u001b[1;32m   1284\u001b[0m \u001b[43m    \u001b[49m\u001b[38;5;28;43mself\u001b[39;49m\u001b[38;5;241;43m.\u001b[39;49m\u001b[43m_parent_ident\u001b[49m\u001b[43m[\u001b[49m\u001b[38;5;124;43m\"\u001b[39;49m\u001b[38;5;124;43mshell\u001b[39;49m\u001b[38;5;124;43m\"\u001b[39;49m\u001b[43m]\u001b[49m\u001b[43m,\u001b[49m\n\u001b[1;32m   1285\u001b[0m \u001b[43m    \u001b[49m\u001b[38;5;28;43mself\u001b[39;49m\u001b[38;5;241;43m.\u001b[39;49m\u001b[43mget_parent\u001b[49m\u001b[43m(\u001b[49m\u001b[38;5;124;43m\"\u001b[39;49m\u001b[38;5;124;43mshell\u001b[39;49m\u001b[38;5;124;43m\"\u001b[39;49m\u001b[43m)\u001b[49m\u001b[43m,\u001b[49m\n\u001b[1;32m   1286\u001b[0m \u001b[43m    \u001b[49m\u001b[43mpassword\u001b[49m\u001b[38;5;241;43m=\u001b[39;49m\u001b[38;5;28;43;01mFalse\u001b[39;49;00m\u001b[43m,\u001b[49m\n\u001b[1;32m   1287\u001b[0m \u001b[43m\u001b[49m\u001b[43m)\u001b[49m\n",
      "File \u001b[0;32m~/Documentos/python-em-ds/venv/lib/python3.10/site-packages/ipykernel/kernelbase.py:1325\u001b[0m, in \u001b[0;36mKernel._input_request\u001b[0;34m(self, prompt, ident, parent, password)\u001b[0m\n\u001b[1;32m   1322\u001b[0m \u001b[38;5;28;01mexcept\u001b[39;00m \u001b[38;5;167;01mKeyboardInterrupt\u001b[39;00m:\n\u001b[1;32m   1323\u001b[0m     \u001b[38;5;66;03m# re-raise KeyboardInterrupt, to truncate traceback\u001b[39;00m\n\u001b[1;32m   1324\u001b[0m     msg \u001b[38;5;241m=\u001b[39m \u001b[38;5;124m\"\u001b[39m\u001b[38;5;124mInterrupted by user\u001b[39m\u001b[38;5;124m\"\u001b[39m\n\u001b[0;32m-> 1325\u001b[0m     \u001b[38;5;28;01mraise\u001b[39;00m \u001b[38;5;167;01mKeyboardInterrupt\u001b[39;00m(msg) \u001b[38;5;28;01mfrom\u001b[39;00m \u001b[38;5;28;01mNone\u001b[39;00m\n\u001b[1;32m   1326\u001b[0m \u001b[38;5;28;01mexcept\u001b[39;00m \u001b[38;5;167;01mException\u001b[39;00m:\n\u001b[1;32m   1327\u001b[0m     \u001b[38;5;28mself\u001b[39m\u001b[38;5;241m.\u001b[39mlog\u001b[38;5;241m.\u001b[39mwarning(\u001b[38;5;124m\"\u001b[39m\u001b[38;5;124mInvalid Message:\u001b[39m\u001b[38;5;124m\"\u001b[39m, exc_info\u001b[38;5;241m=\u001b[39m\u001b[38;5;28;01mTrue\u001b[39;00m)\n",
      "\u001b[0;31mKeyboardInterrupt\u001b[0m: Interrupted by user"
     ]
    }
   ],
   "source": [
    "def pontos()-> int:\n",
    "    '''\n",
    "    Calculadora de media retirando o maior e o menor valor de uma lista\n",
    "\n",
    "    '''\n",
    "\n",
    "    lista = []\n",
    "    a=1\n",
    "\n",
    "    while a <= 5:\n",
    "        lista.append(int(input(f\"Entre com a nota {a}: \")))\n",
    "        a+=1\n",
    "\n",
    "    lista.remove(max(lista))\n",
    "    lista.remove(min(lista))\n",
    "    media = sum(lista)/len(lista)\n",
    "\n",
    "    return media\n",
    "\n",
    "print(f'A nota foi: {pontos()}')"
   ]
  },
  {
   "cell_type": "code",
   "execution_count": null,
   "metadata": {},
   "outputs": [],
   "source": []
  }
 ],
 "metadata": {
  "kernelspec": {
   "display_name": "venv",
   "language": "python",
   "name": "python3"
  },
  "language_info": {
   "codemirror_mode": {
    "name": "ipython",
    "version": 3
   },
   "file_extension": ".py",
   "mimetype": "text/x-python",
   "name": "python",
   "nbconvert_exporter": "python",
   "pygments_lexer": "ipython3",
   "version": "3.10.12"
  }
 },
 "nbformat": 4,
 "nbformat_minor": 2
}
