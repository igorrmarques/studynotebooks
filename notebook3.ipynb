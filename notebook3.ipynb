{
 "cells": [
  {
   "cell_type": "code",
   "execution_count": 1,
   "metadata": {},
   "outputs": [],
   "source": [
    "from random import randint\n",
    "\n",
    "def codigo():\n",
    "    '''\n",
    "        Gera um codigo aleatório de 0 a 999\n",
    "        Retorna em str\n",
    "    '''\n",
    "    return str(randint(0,999))\n",
    "\n",
    "notas_turma = ['João', 8.0, 9.0, 10.0, 'Maria', 9.0, 7.0, 6.0, 'José', 3.4, 7.0, 7.0, 'Cláudia', 5.5, 6.6, 8.0, 'Ana', 6.0, 10.0, 9.5]\n",
    "\n",
    "nomes = []\n",
    "notas = []\n",
    "\n",
    "for i in range(len(notas_turma)):\n",
    "    if i % 4 == 0:\n",
    "        nomes.append(notas_turma[i])\n",
    "    else:\n",
    "        notas.append(notas_turma[i])\n",
    "\n",
    "notas_separadas = []\n",
    "for i in range(0, len(notas), 3):\n",
    "    notas_separadas.append([notas[i],notas[i+1],notas[i+2]])\n",
    "\n",
    "codigo_estudantes = []\n",
    "#tuplas irreversíveis, não rodar duas vezes, vai gerar erro, restart se der esse erro\n",
    "for i in range(len(nomes)):\n",
    "    codigo_estudantes.append((nomes[i],nomes[i][0]+codigo()))\n"
   ]
  },
  {
   "cell_type": "code",
   "execution_count": 5,
   "metadata": {},
   "outputs": [],
   "source": [
    "def media(lista, list=[0]) -> float:\n",
    "    '''\n",
    "        Função para calcular a media de itens de uma lista.\n",
    "        Retorno da função é um numero flutuante.\n",
    "\n",
    "        lista: list, default[0]\n",
    "            lista com as notas para calcular a media\n",
    "        return = calculo: float\n",
    "            media calculada\n",
    "    '''\n",
    "    calculo = sum(lista)/len(lista)\n",
    "\n",
    "    return calculo\n",
    "\n",
    "medias = [round(media(nota),1) for nota in notas_separadas]"
   ]
  },
  {
   "cell_type": "code",
   "execution_count": 17,
   "metadata": {},
   "outputs": [],
   "source": [
    "nome_estudante = [nome[0] for nome in codigo_estudantes]\n",
    "estudantes = list(zip(nome_estudante, medias))\n",
    "candidatos = [estudante[0] for estudante in estudantes if estudante[1]>=8]"
   ]
  },
  {
   "cell_type": "code",
   "execution_count": 25,
   "metadata": {},
   "outputs": [
    {
     "data": {
      "text/plain": [
       "['Aprovado', 'Aprovado', 'Reprovado', 'Aprovado', 'Aprovado']"
      ]
     },
     "execution_count": 25,
     "metadata": {},
     "output_type": "execute_result"
    }
   ],
   "source": [
    "situacao = ['Aprovado' if media>=6 else 'Reprovado' for media in medias]\n",
    "situacao"
   ]
  },
  {
   "cell_type": "code",
   "execution_count": 28,
   "metadata": {},
   "outputs": [
    {
     "data": {
      "text/plain": [
       "[[('João', 'J308'),\n",
       "  ('Maria', 'M703'),\n",
       "  ('José', 'J355'),\n",
       "  ('Cláudia', 'C240'),\n",
       "  ('Ana', 'A986')],\n",
       " [[8.0, 9.0, 10.0],\n",
       "  [9.0, 7.0, 6.0],\n",
       "  [3.4, 7.0, 7.0],\n",
       "  [5.5, 6.6, 8.0],\n",
       "  [6.0, 10.0, 9.5]],\n",
       " [9.0, 7.3, 5.8, 6.7, 8.5],\n",
       " ['Aprovado', 'Aprovado', 'Reprovado', 'Aprovado', 'Aprovado']]"
      ]
     },
     "execution_count": 28,
     "metadata": {},
     "output_type": "execute_result"
    }
   ],
   "source": [
    "cadastro = [codigo_estudantes, notas_separadas, medias, situacao]\n",
    "cadastro"
   ]
  },
  {
   "cell_type": "code",
   "execution_count": 33,
   "metadata": {},
   "outputs": [
    {
     "data": {
      "text/plain": [
       "{'Notas': [[8.0, 9.0, 10.0],\n",
       "  [9.0, 7.0, 6.0],\n",
       "  [3.4, 7.0, 7.0],\n",
       "  [5.5, 6.6, 8.0],\n",
       "  [6.0, 10.0, 9.5]],\n",
       " 'Media': [9.0, 7.3, 5.8, 6.7, 8.5],\n",
       " 'Situação': ['Aprovado', 'Aprovado', 'Reprovado', 'Aprovado', 'Aprovado'],\n",
       " 'Estudante': ['João', 'Maria', 'José', 'Cláudia', 'Ana']}"
      ]
     },
     "execution_count": 33,
     "metadata": {},
     "output_type": "execute_result"
    }
   ],
   "source": [
    "coluna = ['Notas', 'Media', 'Situação']\n",
    "cadastro_dict = {coluna[i]: cadastro[i+1] for i in range(len(coluna))}\n",
    "cadastro_dict[\"Estudante\"] = [cadastro[0][nomes][0] for nomes in range(len(cadastro[0]))]\n",
    "cadastro_dict"
   ]
  },
  {
   "cell_type": "code",
   "execution_count": 49,
   "metadata": {},
   "outputs": [
    {
     "name": "stdout",
     "output_type": "stream",
     "text": [
      "24\n",
      "10\n",
      "16\n"
     ]
    }
   ],
   "source": [
    "ldl = [[4,6,5,9], [1,0,7,2], [3,4,1,8]]\n",
    "for lista in ldl:\n",
    "    print(sum(lista))"
   ]
  },
  {
   "cell_type": "code",
   "execution_count": 61,
   "metadata": {},
   "outputs": [
    {
     "name": "stdout",
     "output_type": "stream",
     "text": [
      "[81, 67, 83]\n",
      "[(0, 'Pedro'), (1, 'Júlia'), (2, 'Otávio')]\n"
     ]
    }
   ],
   "source": [
    "lista_de_tuplas = [('Pedro', 1.74, 81), ('Júlia', 1.65, 67), ('Otávio', 1.81, 83)]\n",
    "l3 = [lista_de_tuplas[i][2] for i in range(len(lista_de_tuplas))]\n",
    "print(l3)\n",
    "tuplas = []\n",
    "for i in range(len(lista_de_tuplas)):\n",
    "    tuplas.append((i,lista_de_tuplas[i][0]))\n",
    "print(tuplas)"
   ]
  },
  {
   "cell_type": "code",
   "execution_count": 67,
   "metadata": {},
   "outputs": [
    {
     "data": {
      "text/plain": [
       "[1700, 1400, 1900]"
      ]
     },
     "execution_count": 67,
     "metadata": {},
     "output_type": "execute_result"
    }
   ],
   "source": [
    "aluguel = [('Apartamento', 1700), ('Apartamento', 1400), ('Casa', 2150), ('Apartamento', 1900), ('Casa', 1100)]\n",
    "apartamentos = [x[1] for x in aluguel if x[0] == 'Apartamento']\n",
    "apartamentos"
   ]
  },
  {
   "cell_type": "code",
   "execution_count": 68,
   "metadata": {},
   "outputs": [
    {
     "data": {
      "text/plain": [
       "{'Jan': 860,\n",
       " 'Fev': 490,\n",
       " 'Mar': 1010,\n",
       " 'Abr': 780,\n",
       " 'Mai': 900,\n",
       " 'Jun': 630,\n",
       " 'Jul': 590,\n",
       " 'Ago': 770,\n",
       " 'Set': 620,\n",
       " 'Out': 560,\n",
       " 'Nov': 840,\n",
       " 'Dez': 360}"
      ]
     },
     "execution_count": 68,
     "metadata": {},
     "output_type": "execute_result"
    }
   ],
   "source": [
    "meses = ['Jan', 'Fev', 'Mar', 'Abr', 'Mai', 'Jun', 'Jul', 'Ago', 'Set', 'Out', 'Nov', 'Dez']\n",
    "despesa = [860, 490, 1010, 780, 900, 630, 590, 770, 620, 560, 840, 360]\n",
    "dict_despesa = {meses[i]: despesa[i] for i in range(len(meses))}\n",
    "dict_despesa"
   ]
  },
  {
   "cell_type": "code",
   "execution_count": 72,
   "metadata": {},
   "outputs": [
    {
     "data": {
      "text/plain": [
       "[8883, 7688, 9544, 8190]"
      ]
     },
     "execution_count": 72,
     "metadata": {},
     "output_type": "execute_result"
    }
   ],
   "source": [
    "vendas = [('2023', 4093), ('2021', 4320), ('2021', 5959), ('2022', 8883), ('2023', 9859), ('2022', 5141), ('2022', 7688), ('2022', 9544), ('2023', 4794), ('2021', 7178), ('2022', 3030), ('2021', 7471), ('2022', 4226), ('2022', 8190), ('2021', 9680), ('2022', 5616)]\n",
    "vendas2022 = [x[1] for x in vendas if (x[0] == '2022' and x[1] > 6000)]\n",
    "vendas2022"
   ]
  },
  {
   "cell_type": "code",
   "execution_count": 74,
   "metadata": {},
   "outputs": [
    {
     "name": "stdout",
     "output_type": "stream",
     "text": [
      "[('Diabetes', 129), ('Normal', 82), ('Hipoglicemia', 60), ('Normal', 97), ('Alterada', 101), ('Hipoglicemia', 65), ('Hipoglicemia', 62), ('Diabetes', 167), ('Normal', 87), ('Hipoglicemia', 53), ('Hipoglicemia', 58), ('Normal', 92), ('Hipoglicemia', 66), ('Alterada', 120), ('Alterada', 109), ('Hipoglicemia', 62), ('Normal', 86), ('Normal', 96), ('Alterada', 103), ('Normal', 88), ('Diabetes', 155), ('Hipoglicemia', 52), ('Normal', 89), ('Normal', 73)]\n"
     ]
    }
   ],
   "source": [
    "glicemia = [129, 82, 60, 97, 101, 65, 62, 167, 87, 53, 58, 92, 66, 120, 109, 62, 86, 96, 103, 88, 155, 52, 89, 73]\n",
    "rotulos = [('Hipoglicemia', glicose) if glicose <= 70 else ('Normal', glicose) if glicose < 100 else ('Alterada', glicose) if glicose < 125 else ('Diabetes', glicose) for glicose in glicemia]\n",
    "print(rotulos)\n"
   ]
  },
  {
   "cell_type": "code",
   "execution_count": 79,
   "metadata": {},
   "outputs": [
    {
     "name": "stdout",
     "output_type": "stream",
     "text": [
      "[(['id', 'quantidade', 'preço', 'total'], [0, 15, 93.0, 1395.0]), (['id', 'quantidade', 'preço', 'total'], [1, 12, 102.0, 1224.0]), (['id', 'quantidade', 'preço', 'total'], [2, 1, 18.0, 18.0]), (['id', 'quantidade', 'preço', 'total'], [3, 15, 41.0, 615.0]), (['id', 'quantidade', 'preço', 'total'], [4, 2, 122.0, 244.0]), (['id', 'quantidade', 'preço', 'total'], [5, 11, 14.0, 154.0]), (['id', 'quantidade', 'preço', 'total'], [6, 2, 71.0, 142.0]), (['id', 'quantidade', 'preço', 'total'], [7, 12, 48.0, 576.0]), (['id', 'quantidade', 'preço', 'total'], [8, 2, 14.0, 28.0]), (['id', 'quantidade', 'preço', 'total'], [9, 4, 144.0, 576.0])]\n"
     ]
    }
   ],
   "source": [
    "id = [0, 1, 2, 3, 4, 5, 6, 7, 8, 9]\n",
    "quantidade = [15, 12, 1, 15, 2, 11, 2, 12, 2, 4]\n",
    "preco = [93.0, 102.0, 18.0, 41.0, 122.0, 14.0, 71.0, 48.0, 14.0, 144.0]\n",
    "cabeçalho = ['id','quantidade','preço','total']\n",
    "tabela = []\n",
    "for x in range(len(id)):\n",
    "    tabela.append((cabeçalho,[id[x],quantidade[x],preco[x],quantidade[x]*preco[x]]))\n",
    "print(tabela)\n",
    "\n"
   ]
  },
  {
   "cell_type": "code",
   "execution_count": 93,
   "metadata": {},
   "outputs": [
    {
     "name": "stdout",
     "output_type": "stream",
     "text": [
      "Quantidade de filiais por estado : {'SP': 8, 'RJ': 2, 'ES': 6, 'MG': 7}\n"
     ]
    }
   ],
   "source": [
    "estados = ['SP', 'ES', 'MG', 'MG', 'SP', 'MG', 'ES', 'ES', 'ES', 'SP', 'SP', 'MG', 'ES', 'SP', 'RJ', 'MG', 'RJ', 'SP', 'MG', 'SP', 'ES', 'SP', 'MG']\n",
    "abr = list(set(estados))\n",
    "\n",
    "repetidos = []\n",
    "\n",
    "for x in abr:\n",
    "    v = [est for est in estados if est == x]\n",
    "    repetidos.append(v)\n",
    "\n",
    "numero_filiais = {abr[i]: len(repetidos[i]) for i in range(len(abr))}\n",
    "print(f'Quantidade de filiais por estado : {numero_filiais}')\n"
   ]
  },
  {
   "cell_type": "code",
   "execution_count": null,
   "metadata": {},
   "outputs": [],
   "source": []
  }
 ],
 "metadata": {
  "kernelspec": {
   "display_name": "venv",
   "language": "python",
   "name": "python3"
  },
  "language_info": {
   "codemirror_mode": {
    "name": "ipython",
    "version": 3
   },
   "file_extension": ".py",
   "mimetype": "text/x-python",
   "name": "python",
   "nbconvert_exporter": "python",
   "pygments_lexer": "ipython3",
   "version": "3.10.12"
  }
 },
 "nbformat": 4,
 "nbformat_minor": 2
}
