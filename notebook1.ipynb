{
 "cells": [
  {
   "cell_type": "code",
   "execution_count": 3,
   "metadata": {},
   "outputs": [
    {
     "data": {
      "text/plain": [
       "type"
      ]
     },
     "execution_count": 3,
     "metadata": {},
     "output_type": "execute_result"
    }
   ],
   "source": [
    "variavel = 102\n",
    "type(type(variavel))"
   ]
  },
  {
   "cell_type": "code",
   "execution_count": 4,
   "metadata": {},
   "outputs": [
    {
     "data": {
      "text/plain": [
       "'ESSE TEXTO AQUI NÃO TA EM CAPSLOCK'"
      ]
     },
     "execution_count": 4,
     "metadata": {},
     "output_type": "execute_result"
    }
   ],
   "source": [
    "texto = 'esse texto aqui não ta em capslock'\n",
    "texto.upper()"
   ]
  },
  {
   "cell_type": "code",
   "execution_count": 6,
   "metadata": {},
   "outputs": [
    {
     "data": {
      "text/plain": [
       "'esse texto bqui não tb em cbpslock'"
      ]
     },
     "execution_count": 6,
     "metadata": {},
     "output_type": "execute_result"
    }
   ],
   "source": [
    "texto.replace('a','b')"
   ]
  },
  {
   "cell_type": "code",
   "execution_count": 7,
   "metadata": {},
   "outputs": [
    {
     "data": {
      "text/plain": [
       "'esse texto aqui não ta em capslock'"
      ]
     },
     "execution_count": 7,
     "metadata": {},
     "output_type": "execute_result"
    }
   ],
   "source": [
    "texto"
   ]
  },
  {
   "cell_type": "code",
   "execution_count": 12,
   "metadata": {},
   "outputs": [
    {
     "data": {
      "text/plain": [
       "str"
      ]
     },
     "execution_count": 12,
     "metadata": {},
     "output_type": "execute_result"
    }
   ],
   "source": [
    "nome = input('Escreva o seu nome:')\n",
    "type(nome)"
   ]
  },
  {
   "cell_type": "code",
   "execution_count": 21,
   "metadata": {},
   "outputs": [
    {
     "data": {
      "text/plain": [
       "10.0"
      ]
     },
     "execution_count": 21,
     "metadata": {},
     "output_type": "execute_result"
    }
   ],
   "source": [
    "nota_entrada = float(input('Digite a nota do teste de ingresso: '))\n",
    "nota_entrada\n"
   ]
  },
  {
   "cell_type": "code",
   "execution_count": 22,
   "metadata": {},
   "outputs": [
    {
     "name": "stdout",
     "output_type": "stream",
     "text": [
      "A soma dos numeros é igual a 8\n"
     ]
    }
   ],
   "source": [
    "v1 = int(input('Digite o primeiro número: '))\n",
    "v2 = int(input('Digite o segundo número: '))\n",
    "soma = v1 + v2\n",
    "print(f\"A soma dos numeros é igual a {soma}\")"
   ]
  },
  {
   "cell_type": "code",
   "execution_count": 30,
   "metadata": {},
   "outputs": [
    {
     "name": "stdout",
     "output_type": "stream",
     "text": [
      "valor 1: 0, valor 2: 0, valor 3: 0, denominador: 1\n",
      "A soma dos numeros é igual a 0\n",
      "A divisão dos numeros é igual a 0.0\n",
      "A media é 0, todos os valores foram 0\n"
     ]
    }
   ],
   "source": [
    "v1 = int(input('Digite o primeiro número: '))\n",
    "v2 = int(input('Digite o segundo número: '))\n",
    "v3 = int(input('Digite o terceiro número: '))\n",
    "deno = int(input('Digite o denominador: '))\n",
    "qtd = 0\n",
    "\n",
    "while deno == 0:\n",
    "    print(\"O denominador não pode ser 0\")\n",
    "    deno = int(input('Digite um denominador DIFERENTE DE ZERO: '))\n",
    "\n",
    "if v1 != 0:\n",
    "    qtd = qtd + 1\n",
    "if v2 != 0:\n",
    "    qtd = qtd + 1\n",
    "if v3 != 0:\n",
    "    qtd = qtd + 1\n",
    "\n",
    "soma = v1 + v2 + v3\n",
    "div = soma/deno\n",
    "print(f'valor 1: {v1}, valor 2: {v2}, valor 3: {v3}, denominador: {deno}')\n",
    "print(f\"A soma dos numeros é igual a {soma}\")\n",
    "print(f'A divisão dos numeros é igual a {div}')\n",
    "if qtd > 0:\n",
    "    med = soma/qtd\n",
    "    print(f'A media dos valores por valor é: {med}')\n",
    "elif qtd == 0:\n",
    "    print(\"A media é 0, todos os valores foram 0\")"
   ]
  },
  {
   "cell_type": "code",
   "execution_count": 34,
   "metadata": {},
   "outputs": [
    {
     "name": "stdout",
     "output_type": "stream",
     "text": [
      "UMA FRASE QUALQUER\n",
      "UM@ FR@$f QU@LQUfR\n"
     ]
    }
   ],
   "source": [
    "frase = input('Digite uma frase qualquer: ')\n",
    "print(frase.upper())\n",
    "print(frase.upper().replace('E','f').replace('A','@').replace('S','$'))"
   ]
  },
  {
   "cell_type": "code",
   "execution_count": 48,
   "metadata": {},
   "outputs": [
    {
     "name": "stdout",
     "output_type": "stream",
     "text": [
      "15.0 - 26.45745\n",
      "O resutado da operação: -11.457450000000001\n",
      "O numero -11.457450000000001 é impar\n",
      "O numero -11.457450000000001 é negativo\n",
      "O numero -11.457450000000001 possui casas decimais\n"
     ]
    }
   ],
   "source": [
    "v1 = float(input(\"Digite o primeiro número: \"))\n",
    "operador = input(\"Digite o operador: \")\n",
    "v2 = float(input(\"Digite o segundo número: \"))\n",
    "\n",
    "while v2 == 0 and operador == '/':\n",
    "    print(\"O denominador não pode ser 0\")\n",
    "    v2 = int(input('Digite um denominador DIFERENTE DE ZERO: '))\n",
    "\n",
    "if operador == '+':\n",
    "    soma = v1 + v2\n",
    "    print(f'{v1} {operador} {v2}')\n",
    "    print(f'O resutado da operação: {soma}')\n",
    "elif operador == '-':\n",
    "    soma = v1 - v2\n",
    "    print(f'{v1} {operador} {v2}')\n",
    "    print(f'O resutado da operação: {soma}')\n",
    "elif operador == '/':\n",
    "    soma = v1 / v2\n",
    "    print(f'{v1} {operador} {v2}')\n",
    "    print(f'O resutado da operação: {soma}')\n",
    "elif operador == '*':\n",
    "    soma = v1 * v2\n",
    "    print(f'{v1} {operador} {v2}')\n",
    "    print(f'O resutado da operação: {soma}')\n",
    "elif operador == '//':\n",
    "    soma = v1 // v2\n",
    "    print(f'{v1} {operador} {v2}')\n",
    "    print(f'O resutado da operação: {soma}')\n",
    "elif operador == '**':\n",
    "    soma = v1 ** v2\n",
    "    print(f'{v1} {operador} {v2}')\n",
    "    print(f'O resutado da operação: {soma}')\n",
    "elif operador == '%':\n",
    "    soma = v1 % v2\n",
    "    print(f'{v1} {operador} {v2}')\n",
    "    print(f'O resutado da operação: {soma}')\n",
    "else:\n",
    "    print('Não foi possivel realizar a operação: operador indefinido')\n",
    "\n",
    "if int(soma) % 2 == 0:\n",
    "    print(f'O numero {soma} é par')\n",
    "else:\n",
    "    print(f'O numero {soma} é impar')\n",
    "\n",
    "if soma > 0:\n",
    "    print(f'O numero {soma} é positivo')\n",
    "elif soma < 0:\n",
    "    print(f'O numero {soma} é negativo')\n",
    "else:\n",
    "    print(f\"o numero {soma} é nulo\")\n",
    "\n",
    "if(abs(soma) - abs(int(soma)) > 0):\n",
    "    print(f'O numero {soma} possui casas decimais')\n",
    "else:\n",
    "    print(f'O numero {soma} não possui casas decimais')\n"
   ]
  },
  {
   "cell_type": "code",
   "execution_count": null,
   "metadata": {},
   "outputs": [],
   "source": []
  },
  {
   "cell_type": "code",
   "execution_count": null,
   "metadata": {},
   "outputs": [],
   "source": []
  }
 ],
 "metadata": {
  "kernelspec": {
   "display_name": "venv",
   "language": "python",
   "name": "python3"
  },
  "language_info": {
   "codemirror_mode": {
    "name": "ipython",
    "version": 3
   },
   "file_extension": ".py",
   "mimetype": "text/x-python",
   "name": "python",
   "nbconvert_exporter": "python",
   "pygments_lexer": "ipython3",
   "version": "3.10.12"
  }
 },
 "nbformat": 4,
 "nbformat_minor": 2
}
